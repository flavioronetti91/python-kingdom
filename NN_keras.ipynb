{
 "cells": [
  {
   "cell_type": "code",
   "execution_count": 1,
   "metadata": {},
   "outputs": [
    {
     "name": "stderr",
     "output_type": "stream",
     "text": [
      "Using TensorFlow backend.\n"
     ]
    }
   ],
   "source": [
    "import tensorflow\n",
    "from keras.models import Sequential\n",
    "from keras.layers import Dense , Activation , Dropout\n",
    "import pandas as pd\n",
    "from sklearn.metrics import f1_score\n",
    "import numpy as np\n",
    "from keras.utils import plot_model\n",
    "import pydot\n",
    "import keras"
   ]
  },
  {
   "cell_type": "code",
   "execution_count": 2,
   "metadata": {},
   "outputs": [
    {
     "name": "stdout",
     "output_type": "stream",
     "text": [
      "   Sex       Age  SibSp  Parch      Fare  Embarked  Pclass_1  Pclass_2  \\\n",
      "0    0 -0.565419      1      0 -0.502163       1.0         0         0   \n",
      "1    1  0.663488      1      0  0.786404       0.0         1         0   \n",
      "2    1 -0.258192      0      0 -0.488580       1.0         0         0   \n",
      "3    1  0.433068      1      0  0.420494       1.0         1         0   \n",
      "4    0  0.433068      0      0 -0.486064       1.0         0         0   \n",
      "\n",
      "   Pclass_3  Name_0  Name_1  Name_2  Name_3  Name_4  Name_5  Name_6  \n",
      "0         1       1       0       0       0       0       0       0  \n",
      "1         0       0       1       0       0       0       0       0  \n",
      "2         1       0       0       1       0       0       0       0  \n",
      "3         0       0       1       0       0       0       0       0  \n",
      "4         1       1       0       0       0       0       0       0  \n"
     ]
    }
   ],
   "source": [
    "## input\n",
    "df = pd.read_csv(\"C:\\\\Users\\\\unieuro\\\\Documents\\\\ML\\\\WondrousMachineLaundry-master\\\\titanic\\\\data\\\\train.csv\")\n",
    "\n",
    "## mapping strings to numbers\n",
    "df[\"Sex\"] = df[\"Sex\"].replace({\"male\":0, \"female\":1})\n",
    "df[\"Embarked\"] = df[\"Embarked\"].replace({'C':0, 'S':1, 'Q':2})\n",
    "\n",
    "## handling names\n",
    "title_dict = {\"Mr.\":0, \"Mrs.\":1, \"Mme.\":1, \"Miss.\":2, \"Mlle.\":2, \"Master.\":3, \"Dr.\":4, \"Rev.\": 5}\n",
    "for i_row, row in df.iterrows():\n",
    "    name_str = row[\"Name\"]\n",
    "    if not isinstance(name_str, str):\n",
    "        break # break the loop if the names have already been replaced by ints\n",
    "    df.loc[i_row,\"Name\"] = 6 # assign the default value at the begining\n",
    "    for word in name_str.split():\n",
    "        if word in title_dict.keys():\n",
    "            df.loc[i_row,\"Name\"] = title_dict[word]\n",
    "            break # break the loop if the key value has been found\n",
    "        \n",
    "## handling nans\n",
    "df = df.drop(columns=[\"Cabin\"])\n",
    "df[\"Age\"] = df[\"Age\"].fillna(df[\"Age\"].median())\n",
    "df[\"Embarked\"] = df[\"Embarked\"].fillna(df[\"Embarked\"].mode().iloc[0])\n",
    "\n",
    "## get dummies\n",
    "features = [\"Pclass\", \"Name\"]\n",
    "for f in features:\n",
    "    df = pd.concat([df.drop(columns=f), pd.get_dummies(df[f], prefix=f)], axis=1)\n",
    "\n",
    "## creating input and output dataframes\n",
    "yf = df[\"Survived\"]\n",
    "Xf = df.drop(columns=[\"PassengerId\", \"Survived\", \"Ticket\"])\n",
    "\n",
    "## normalizing\n",
    "features = [\"Age\", \"Fare\"]\n",
    "Xf[features] = (Xf[features] - Xf[features].mean()) / Xf[features].std()\n",
    "print(Xf.head())"
   ]
  },
  {
   "cell_type": "code",
   "execution_count": 3,
   "metadata": {},
   "outputs": [],
   "source": [
    "Xdata=Xf.loc[:,:].to_numpy()\n",
    "ydata=yf.loc[:].to_numpy()"
   ]
  },
  {
   "cell_type": "code",
   "execution_count": 7,
   "metadata": {
    "scrolled": true
   },
   "outputs": [
    {
     "name": "stdout",
     "output_type": "stream",
     "text": [
      "Train on 484 samples, validate on 121 samples\n",
      "Epoch 1/10\n",
      "484/484 [==============================] - 1s 1ms/step - loss: 0.6117 - accuracy: 0.7045 - val_loss: 0.5778 - val_accuracy: 0.7521\n",
      "Epoch 2/10\n",
      "484/484 [==============================] - 0s 103us/step - loss: 0.5204 - accuracy: 0.7583 - val_loss: 0.5158 - val_accuracy: 0.7851\n",
      "Epoch 3/10\n",
      "484/484 [==============================] - 0s 107us/step - loss: 0.4659 - accuracy: 0.7996 - val_loss: 0.4991 - val_accuracy: 0.7934\n",
      "Epoch 4/10\n",
      "484/484 [==============================] - 0s 105us/step - loss: 0.4428 - accuracy: 0.8182 - val_loss: 0.4927 - val_accuracy: 0.7851\n",
      "Epoch 5/10\n",
      "484/484 [==============================] - 0s 95us/step - loss: 0.4310 - accuracy: 0.8264 - val_loss: 0.4889 - val_accuracy: 0.7934\n",
      "Epoch 6/10\n",
      "484/484 [==============================] - 0s 111us/step - loss: 0.4219 - accuracy: 0.8285 - val_loss: 0.4826 - val_accuracy: 0.7934\n",
      "Epoch 7/10\n",
      "484/484 [==============================] - 0s 97us/step - loss: 0.4134 - accuracy: 0.8306 - val_loss: 0.4784 - val_accuracy: 0.7934\n",
      "Epoch 8/10\n",
      "484/484 [==============================] - 0s 99us/step - loss: 0.4106 - accuracy: 0.8326 - val_loss: 0.4778 - val_accuracy: 0.7934\n",
      "Epoch 9/10\n",
      "484/484 [==============================] - 0s 95us/step - loss: 0.4045 - accuracy: 0.8306 - val_loss: 0.4727 - val_accuracy: 0.7934\n",
      "Epoch 10/10\n",
      "484/484 [==============================] - 0s 99us/step - loss: 0.4025 - accuracy: 0.8368 - val_loss: 0.4707 - val_accuracy: 0.7934\n",
      "152/152 [==============================] - 0s 46us/step\n",
      "\n",
      "Model loss is: 0.42701735916106326\n",
      "\n",
      "Model accuracy is: 0.8092105388641357\n"
     ]
    }
   ],
   "source": [
    "frac_train = 0.85\n",
    "train_set = int(Xdata.shape[0] * frac_train)\n",
    "\n",
    "x_train = Xdata[:int(train_set * 0.8) , :]\n",
    "y_train = ydata[:int(train_set * 0.8)]\n",
    "\n",
    "x_test = Xdata[int(train_set * 0.8):train_set , :]\n",
    "y_test = ydata[int(train_set * 0.8):train_set]\n",
    "\n",
    "model = Sequential()\n",
    "model.add(Dense(32, input_dim = Xdata.shape[1], activation='relu'))\n",
    "#model.add(Dropout(0.5))\n",
    "model.add(Dense(32, activation='relu'))\n",
    "#model.add(Dropout(0.5))\n",
    "model.add(Dense(1, activation='sigmoid'))\n",
    "\n",
    "model.compile(loss='binary_crossentropy',\n",
    "              optimizer='rmsprop',\n",
    "              metrics=['accuracy'])\n",
    "\n",
    "model.fit(x_train, y_train,\n",
    "          epochs=10,\n",
    "          batch_size=10 , verbose = 1 , shuffle = True , validation_split = 0.2)\n",
    "score = model.evaluate(x_test, y_test, batch_size = 10)\n",
    "print(\"\\nModel loss is:\" , score[0])\n",
    "print(\"\\nModel accuracy is:\" , score[1])"
   ]
  },
  {
   "cell_type": "code",
   "execution_count": null,
   "metadata": {},
   "outputs": [
    {
     "name": "stdout",
     "output_type": "stream",
     "text": [
      "###################################### 39%\r"
     ]
    }
   ],
   "source": [
    "from sklearn.model_selection import train_test_split\n",
    "\n",
    "lst_test = []\n",
    "lst_train = []\n",
    "\n",
    "model = Sequential()\n",
    "model.add(Dense(10, input_dim = Xdata.shape[1], activation='relu'))\n",
    "#model.add(Dense(32, activation='relu'))\n",
    "model.add(Dense(1, activation='sigmoid'))\n",
    "\n",
    "model.compile(loss='binary_crossentropy' , optimizer='rmsprop' , metrics=['accuracy'])\n",
    "\n",
    "lst_train, lst_test = fitNN(Xd = Xdata, yd = ydata, modelNN = model, frac_tr = 0.75, shuffle = True)"
   ]
  },
  {
   "cell_type": "code",
   "execution_count": null,
   "metadata": {
    "scrolled": true
   },
   "outputs": [],
   "source": [
    "from matplotlib import pyplot as plt\n",
    "plt.plot(range(5, length), lst_train , color = 'blue', label = \"Train\")\n",
    "plt.plot(range(5, length), lst_test, color= 'red', label = \"Test\")\n",
    "plt.legend()\n",
    "plt.ylim([0.6,1.2])\n",
    "plt.show()"
   ]
  },
  {
   "cell_type": "code",
   "execution_count": 50,
   "metadata": {},
   "outputs": [],
   "source": [
    "def fitNN(Xd, yd, modelNN, frac_tr, shuffle = False):\n",
    "    ltrain = []\n",
    "    ltest = []\n",
    "    length = len(yd)\n",
    "    for m1 in range(5,length):\n",
    "        print(\"#\"*int(100 * m1 / length), \"{0:.0f}%\".format(100 * m1 / length), end='\\r')\n",
    "        m1_train = int(m1 * frac_tr)\n",
    "        if shuffle:\n",
    "            Xnp_train, Xnp_test, ynp_train, ynp_test = train_test_split(Xdata, ydata, test_size=m1 - m1_train, train_size=m1_train)\n",
    "        else:\n",
    "            Xnp_train, Xnp_test, ynp_train, ynp_test = Xdata[:m1_train], Xdata[m1_train:], ydata[:m1_train], ydata[m1_train:] \n",
    "        model.fit(Xnp_train , ynp_train , epochs=10 , verbose = 0 , shuffle = True , validation_split = 0.2)\n",
    "        score = model.evaluate(Xnp_train , ynp_train , verbose = 0)\n",
    "        ltrain.append(score[1])\n",
    "        score = model.evaluate(Xnp_test , ynp_test , verbose = 0)\n",
    "        ltest.append(score[1])\n",
    "    return ltrain, ltest"
   ]
  },
  {
   "cell_type": "code",
   "execution_count": null,
   "metadata": {},
   "outputs": [],
   "source": []
  }
 ],
 "metadata": {
  "kernelspec": {
   "display_name": "Python 3",
   "language": "python",
   "name": "python3"
  },
  "language_info": {
   "codemirror_mode": {
    "name": "ipython",
    "version": 3
   },
   "file_extension": ".py",
   "mimetype": "text/x-python",
   "name": "python",
   "nbconvert_exporter": "python",
   "pygments_lexer": "ipython3",
   "version": "3.7.0"
  }
 },
 "nbformat": 4,
 "nbformat_minor": 2
}
