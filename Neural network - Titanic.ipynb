{
 "cells": [
  {
   "cell_type": "code",
   "execution_count": 218,
   "metadata": {},
   "outputs": [],
   "source": [
    "import numpy as np\n",
    "import matplotlib.pyplot as plt\n",
    "import pandas as pd\n",
    "%matplotlib inline"
   ]
  },
  {
   "cell_type": "code",
   "execution_count": 219,
   "metadata": {},
   "outputs": [],
   "source": [
    "def sigmoid(x):\n",
    "    return 1.0/(1+ np.exp(-x))\n",
    "\n",
    "def sigmoid_derivative(x):\n",
    "    return x * (1.0 - x)\n",
    "\n",
    "def filtering(arr, n0 = 3):\n",
    "    arr = arr[:(len(arr) // n0) * n0]\n",
    "    return np.mean(arr.reshape(-1, n0) , axis = 1)"
   ]
  },
  {
   "cell_type": "code",
   "execution_count": 220,
   "metadata": {},
   "outputs": [],
   "source": [
    "#class for a NN with one hidden layer with 4 neurons (?)\n",
    "class NeuralNetwork:\n",
    "    #initialize neural network\n",
    "    def __init__(self, x, y, n, alpha = 0.05):\n",
    "        #public:\n",
    "        self.input = x\n",
    "        if len(y.shape) == 1:\n",
    "            self.y  = y.reshape(-1,1)\n",
    "        else:\n",
    "            self.y = y\n",
    "        \n",
    "            \n",
    "        self.learning_rate = alpha\n",
    "        #private:\n",
    "        self.__neurons  = n\n",
    "        self.__output   = np.zeros(self.y.shape)\n",
    "        self.__weights1 = np.random.rand(self.__neurons,self.input.shape[1])\n",
    "        self.__weights2 = np.random.rand(1,self.__neurons)\n",
    "    \n",
    "    #reset neural network\n",
    "    def reset(self):\n",
    "        self.__init__(self.input,self.y)\n",
    "        \n",
    "    def getoutput(self):\n",
    "        return self.__output\n",
    "    \n",
    "    def set_y(self, y):\n",
    "        if len(y.shape) == 1:\n",
    "            self.y  = y.reshape(-1,1)\n",
    "        else:\n",
    "            self.y = y\n",
    "        \n",
    "    #feedforward with zero bias (b2=0)\n",
    "    def feedforward(self):\n",
    "        self.layer1   = sigmoid(self.input @ self.__weights1.T)\n",
    "        self.__output = sigmoid(self.layer1 @ self.__weights2.T)      \n",
    "    \n",
    "    #backpropagation algorithm (Andrew NG)\n",
    "    def backpropagation(self,l_reg):\n",
    "        #compute \"error\" for each layer\n",
    "        d_weights_output = (self.y - self.__output) \n",
    "        d_weights_hidden = (d_weights_output @ self.__weights2) * sigmoid_derivative(self.layer1)\n",
    "        #d_weights_input  = (d_weights_hidden @ self.__weights1) * sigmoid_derivative(self.input)\n",
    "        \n",
    "        \n",
    "        #update weights\n",
    "        self.__weights1 = self.__weights1 + self.learning_rate * (d_weights_hidden.T @ self.input) / self.y.size + \\\n",
    "        l_reg * self.__weights1\n",
    "        self.__weights2 = self.__weights2 + self.learning_rate * (d_weights_output.T @ self.layer1) / self.y.size + \\\n",
    "        l_reg * self.__weights2"
   ]
  },
  {
   "cell_type": "code",
   "execution_count": 221,
   "metadata": {},
   "outputs": [
    {
     "name": "stdout",
     "output_type": "stream",
     "text": [
      "   Sex       Age  SibSp  Parch      Fare  Embarked  Pclass_1  Pclass_2  \\\n",
      "0    0 -0.565419      1      0 -0.502163       1.0         0         0   \n",
      "1    1  0.663488      1      0  0.786404       0.0         1         0   \n",
      "2    1 -0.258192      0      0 -0.488580       1.0         0         0   \n",
      "3    1  0.433068      1      0  0.420494       1.0         1         0   \n",
      "4    0  0.433068      0      0 -0.486064       1.0         0         0   \n",
      "\n",
      "   Pclass_3  Name_0  Name_1  Name_2  Name_3  Name_4  Name_5  Name_6  \n",
      "0         1       1       0       0       0       0       0       0  \n",
      "1         0       0       1       0       0       0       0       0  \n",
      "2         1       0       0       1       0       0       0       0  \n",
      "3         0       0       1       0       0       0       0       0  \n",
      "4         1       1       0       0       0       0       0       0  \n"
     ]
    }
   ],
   "source": [
    "## input\n",
    "df = pd.read_csv(\"C:\\\\Users\\\\unieuro\\\\Documents\\\\ML\\\\WondrousMachineLaundry-master\\\\titanic\\\\data\\\\train.csv\")\n",
    "\n",
    "## mapping strings to numbers\n",
    "df[\"Sex\"] = df[\"Sex\"].replace({\"male\":0, \"female\":1})\n",
    "df[\"Embarked\"] = df[\"Embarked\"].replace({'C':0, 'S':1, 'Q':2})\n",
    "\n",
    "## handling names\n",
    "title_dict = {\"Mr.\":0, \"Mrs.\":1, \"Mme.\":1, \"Miss.\":2, \"Mlle.\":2, \"Master.\":3, \"Dr.\":4, \"Rev.\": 5}\n",
    "for i_row, row in df.iterrows():\n",
    "    name_str = row[\"Name\"]\n",
    "    if not isinstance(name_str, str):\n",
    "        break # break the loop if the names have already been replaced by ints\n",
    "    df.loc[i_row,\"Name\"] = 6 # assign the default value at the begining\n",
    "    for word in name_str.split():\n",
    "        if word in title_dict.keys():\n",
    "            df.loc[i_row,\"Name\"] = title_dict[word]\n",
    "            break # break the loop if the key value has been found\n",
    "        \n",
    "## handling nans\n",
    "df = df.drop(columns=[\"Cabin\"])\n",
    "df[\"Age\"] = df[\"Age\"].fillna(df[\"Age\"].median())\n",
    "df[\"Embarked\"] = df[\"Embarked\"].fillna(df[\"Embarked\"].mode().iloc[0])\n",
    "\n",
    "## get dummies\n",
    "features = [\"Pclass\", \"Name\"]\n",
    "for f in features:\n",
    "    df = pd.concat([df.drop(columns=f), pd.get_dummies(df[f], prefix=f)], axis=1)\n",
    "\n",
    "## creating input and output dataframes\n",
    "yf = df[\"Survived\"]\n",
    "Xf = df.drop(columns=[\"PassengerId\", \"Survived\", \"Ticket\"])\n",
    "\n",
    "## normalizing\n",
    "features = [\"Age\", \"Fare\"]\n",
    "Xf[features] = (Xf[features] - Xf[features].mean()) / Xf[features].std()\n",
    "print(Xf.head())"
   ]
  },
  {
   "cell_type": "code",
   "execution_count": 222,
   "metadata": {},
   "outputs": [],
   "source": [
    "Xdata=Xf.loc[:,:].to_numpy()\n",
    "ydata=yf.loc[:].to_numpy()"
   ]
  },
  {
   "cell_type": "code",
   "execution_count": 223,
   "metadata": {},
   "outputs": [
    {
     "name": "stdout",
     "output_type": "stream",
     "text": [
      "################################################################################################### 100%\r"
     ]
    }
   ],
   "source": [
    "from sklearn.model_selection import train_test_split\n",
    "neurons = 10\n",
    "l_reg = -0.003\n",
    "alpha = 0.2\n",
    "\n",
    "length = len(ydata)\n",
    "train_frac=0.8\n",
    "accuracy_train = []\n",
    "accuracy_test = []\n",
    "iterations = 100\n",
    "nn = NeuralNetwork(Xdata, ydata, n = neurons, alpha = alpha)    \n",
    "\n",
    "#shuffle the set?\n",
    "shuffle = 1\n",
    "for m1 in range(2, length):\n",
    "    print(\"#\"*int(100 * m1 / length), \"{0:.0f}%\".format(100 * m1 / length), end='\\r')\n",
    "    m_train  = int(m1 * train_frac)\n",
    "    \n",
    "    if shuffle:\n",
    "        Xnp_train, Xnp_test, ynp_train, ynp_test = train_test_split(Xdata, ydata, test_size=m1 - m_train, train_size=m_train)\n",
    "    else:\n",
    "        Xnp_train, Xnp_test, ynp_train, ynp_test = Xdata[:m_train], Xdata[m_train:], ydata[:m_train], ydata[m_train:] \n",
    "    \n",
    "    #training\n",
    "    nn.input = Xnp_train\n",
    "    nn.set_y(ynp_train)\n",
    "    for i in range(iterations):\n",
    "        nn.feedforward()\n",
    "        nn.backpropagation(l_reg)\n",
    "    \n",
    "    #evaluation\n",
    "    nn.feedforward()\n",
    "    accuracy_train.append((nn.getoutput() < 0.5) ^ nn.y)\n",
    "    \n",
    "    nn.input = Xnp_test\n",
    "    nn.set_y(ynp_test.reshape(-1,1))\n",
    "    nn.feedforward()\n",
    "    accuracy_test.append((nn.getoutput() < 0.5) ^ nn.y)"
   ]
  },
  {
   "cell_type": "code",
   "execution_count": 224,
   "metadata": {},
   "outputs": [],
   "source": [
    "#evaluate\n",
    "score_train = np.zeros(len(accuracy_train))\n",
    "for i in range(len(accuracy_train)):\n",
    "    score_train[i] = (accuracy_train[i].sum() / accuracy_train[i].size)\n",
    "    \n",
    "score_test = np.zeros(len(accuracy_test))\n",
    "for i in range(len(accuracy_test)):\n",
    "    score_test[i] = (accuracy_test[i].sum() / accuracy_test[i].size)"
   ]
  },
  {
   "cell_type": "code",
   "execution_count": 225,
   "metadata": {},
   "outputs": [
    {
     "data": {
      "text/plain": [
       "<matplotlib.legend.Legend at 0x1e78ff0ee10>"
      ]
     },
     "execution_count": 225,
     "metadata": {},
     "output_type": "execute_result"
    },
    {
     "data": {
      "image/png": "[encoded data removed]",
      "text/plain": [
       "<Figure size 432x288 with 1 Axes>"
      ]
     },
     "metadata": {
      "needs_background": "light"
     },
     "output_type": "display_data"
    }
   ],
   "source": [
    "#filtering and plotting\n",
    "n0 = 15\n",
    "score_test = score_test[:(len(score_train) // n0) * n0 ]\n",
    "plt.plot(filtering(score_train, n0), label = \"train\")\n",
    "plt.plot(filtering(score_test, n0), label = \"test\")\n",
    "plt.legend()"
   ]
  },
  {
   "cell_type": "code",
   "execution_count": null,
   "metadata": {},
   "outputs": [],
   "source": []
  }
 ],
 "metadata": {
  "kernelspec": {
   "display_name": "Python 3",
   "language": "python",
   "name": "python3"
  },
  "language_info": {
   "codemirror_mode": {
    "name": "ipython",
    "version": 3
   },
   "file_extension": ".py",
   "mimetype": "text/x-python",
   "name": "python",
   "nbconvert_exporter": "python",
   "pygments_lexer": "ipython3",
   "version": "3.7.0"
  }
 },
 "nbformat": 4,
 "nbformat_minor": 2
}
