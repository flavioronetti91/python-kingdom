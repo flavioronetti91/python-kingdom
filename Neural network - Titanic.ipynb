{
 "cells": [
  {
   "cell_type": "code",
   "execution_count": 1,
   "metadata": {},
   "outputs": [
    {
     "name": "stderr",
     "output_type": "stream",
     "text": [
      "D:\\Documenti\\Anaconda\\lib\\site-packages\\ipykernel\\parentpoller.py:116: UserWarning: Parent poll failed.  If the frontend dies,\n",
      "                the kernel may be left running.  Please let us know\n",
      "                about your system (bitness, Python, etc.) at\n",
      "                ipython-dev@scipy.org\n",
      "  ipython-dev@scipy.org\"\"\")\n"
     ]
    }
   ],
   "source": [
    "import numpy as np\n",
    "import matplotlib.pyplot as plt\n",
    "import pandas as pd\n",
    "%matplotlib inline"
   ]
  },
  {
   "cell_type": "code",
   "execution_count": 2,
   "metadata": {},
   "outputs": [],
   "source": [
    "def sigmoid(x):\n",
    "    return 1.0/(1+ np.exp(-x))\n",
    "\n",
    "def sigmoid_derivative(x):\n",
    "    return x * (1.0 - x)"
   ]
  },
  {
   "cell_type": "code",
   "execution_count": 3,
   "metadata": {},
   "outputs": [],
   "source": [
    "#class for a NN with one hidden layer with 4 neurons (?)\n",
    "class NeuralNetwork:\n",
    "    #initialize neural network\n",
    "    def __init__(self,x,y,n):\n",
    "        #public:\n",
    "        self.input = x\n",
    "        self.y     = y\n",
    "        \n",
    "        #private:\n",
    "        self.__neurons  = n\n",
    "        self.__output   = np.zeros([1,1])\n",
    "        self.__weights1 = np.random.rand(self.__neurons,self.input.shape[0])\n",
    "        self.__weights2 = np.random.rand(1,self.__neurons)\n",
    "    \n",
    "    #reset neural network\n",
    "    def reset(self):\n",
    "        self.__init__(self.input,self.y)\n",
    "        \n",
    "    def getoutput(self):\n",
    "        return self.__output\n",
    "        \n",
    "    #feedforward with zero bias (b2=0)\n",
    "    def feedforward(self):\n",
    "        \n",
    "        self.layer1   = sigmoid(np.dot(self.__weights1 , self.input))\n",
    "        self.__output = sigmoid(np.dot(self.__weights2 , self.layer1))\n",
    "    \n",
    "    #backpropagation algorithm (Andrew NG)\n",
    "    def backpropagation(self,l_reg):\n",
    "        #compute \"error\" for each layer\n",
    "        d_weights_output = (self.y - self.__output) \n",
    "        d_weights_hidden = np.multiply(np.dot(self.__weights2.T , d_weights_output) , np.multiply(self.layer1 , (1-self.layer1)))\n",
    "        d_weights_input  = np.multiply(np.dot(self.__weights1.T , d_weights_hidden) , np.multiply(self.input , (1-self.input)))\n",
    "        \n",
    "        #update weights\n",
    "        self.__weights1 = np.add(self.__weights1 , 0.05 * np.kron(d_weights_hidden , self.input.T)) + l_reg * self.__weights1\n",
    "        self.__weights2 = np.add(self.__weights2 , 0.05 * np.kron(d_weights_output , self.layer1.T)) + l_reg * self.__weights2"
   ]
  },
  {
   "cell_type": "code",
   "execution_count": 4,
   "metadata": {},
   "outputs": [
    {
     "name": "stdout",
     "output_type": "stream",
     "text": [
      "   Sex       Age  SibSp  Parch      Fare  Embarked  Pclass_1  Pclass_2  \\\n",
      "0    0 -0.565419      1      0 -0.502163       1.0         0         0   \n",
      "1    1  0.663488      1      0  0.786404       0.0         1         0   \n",
      "2    1 -0.258192      0      0 -0.488580       1.0         0         0   \n",
      "3    1  0.433068      1      0  0.420494       1.0         1         0   \n",
      "4    0  0.433068      0      0 -0.486064       1.0         0         0   \n",
      "\n",
      "   Pclass_3  Name_0  Name_1  Name_2  Name_3  Name_4  Name_5  Name_6  \n",
      "0         1       1       0       0       0       0       0       0  \n",
      "1         0       0       1       0       0       0       0       0  \n",
      "2         1       0       0       1       0       0       0       0  \n",
      "3         0       0       1       0       0       0       0       0  \n",
      "4         1       1       0       0       0       0       0       0  \n"
     ]
    }
   ],
   "source": [
    "## input\n",
    "df = pd.read_csv(\"C:\\\\Users\\\\unieuro\\\\Documents\\\\ML\\\\WondrousMachineLaundry-master\\\\titanic\\\\data\\\\train.csv\")\n",
    "\n",
    "## mapping strings to numbers\n",
    "df[\"Sex\"] = df[\"Sex\"].replace({\"male\":0, \"female\":1})\n",
    "df[\"Embarked\"] = df[\"Embarked\"].replace({'C':0, 'S':1, 'Q':2})\n",
    "\n",
    "## handling names\n",
    "title_dict = {\"Mr.\":0, \"Mrs.\":1, \"Mme.\":1, \"Miss.\":2, \"Mlle.\":2, \"Master.\":3, \"Dr.\":4, \"Rev.\": 5}\n",
    "for i_row, row in df.iterrows():\n",
    "    name_str = row[\"Name\"]\n",
    "    if not isinstance(name_str, str):\n",
    "        break # break the loop if the names have already been replaced by ints\n",
    "    df.loc[i_row,\"Name\"] = 6 # assign the default value at the begining\n",
    "    for word in name_str.split():\n",
    "        if word in title_dict.keys():\n",
    "            df.loc[i_row,\"Name\"] = title_dict[word]\n",
    "            break # break the loop if the key value has been found\n",
    "        \n",
    "## handling nans\n",
    "df = df.drop(columns=[\"Cabin\"])\n",
    "df[\"Age\"] = df[\"Age\"].fillna(df[\"Age\"].median())\n",
    "df[\"Embarked\"] = df[\"Embarked\"].fillna(df[\"Embarked\"].mode().iloc[0])\n",
    "\n",
    "## get dummies\n",
    "features = [\"Pclass\", \"Name\"]\n",
    "for f in features:\n",
    "    df = pd.concat([df.drop(columns=f), pd.get_dummies(df[f], prefix=f)], axis=1)\n",
    "\n",
    "## creating input and output dataframes\n",
    "yf = df[\"Survived\"]\n",
    "Xf = df.drop(columns=[\"PassengerId\", \"Survived\", \"Ticket\"])\n",
    "\n",
    "## normalizing\n",
    "features = [\"Age\", \"Fare\"]\n",
    "Xf[features] = (Xf[features] - Xf[features].mean()) / Xf[features].std()\n",
    "print(Xf.head())"
   ]
  },
  {
   "cell_type": "code",
   "execution_count": 5,
   "metadata": {},
   "outputs": [],
   "source": [
    "Xdata=Xf.loc[:,:].to_numpy()\n",
    "ydata=yf.loc[:].to_numpy()"
   ]
  },
  {
   "cell_type": "code",
   "execution_count": 32,
   "metadata": {},
   "outputs": [],
   "source": [
    "n = 4\n",
    "l_reg =  0.01 / len(ydata)\n",
    "\n",
    "\n",
    "train_frac=0.8\n",
    "Ltrain = np.zeros(int(len(ydata)*0.8))\n",
    "\n",
    "nn = NeuralNetwork(np.asmatrix(Xdata[0]).T,np.asmatrix(ydata[0]),n)\n",
    "nn.feedforward()\n",
    "nn.backpropagation(l_reg)\n",
    "Ltrain[0] = nn.getoutput()\n",
    "\n",
    "for i in range(len(Ltrain)):\n",
    "    nn.input = np.asmatrix(Xdata[i]).T\n",
    "    nn.y = np.asmatrix(ydata[i]).T\n",
    "    for j in range(100):\n",
    "        nn.feedforward()\n",
    "        nn.backpropagation(l_reg)\n",
    "    Ltrain[i] = nn.getoutput()"
   ]
  },
  {
   "cell_type": "code",
   "execution_count": 33,
   "metadata": {},
   "outputs": [],
   "source": [
    "length = len(Ltrain)\n",
    "Ltest = np.zeros(len(ydata)-length)\n",
    "\n",
    "for i in range(len(ydata)-length):\n",
    "    nn.input = np.asmatrix(Xdata[i+length]).T\n",
    "    nn.y = np.asmatrix(ydata[i+length]).T\n",
    "    for j in range(100):\n",
    "        nn.feedforward()\n",
    "    Ltest[i] = nn.getoutput()"
   ]
  },
  {
   "cell_type": "code",
   "execution_count": 34,
   "metadata": {},
   "outputs": [],
   "source": [
    "ltest = np.zeros(len(Ltest))\n",
    "for i in range(len(Ltest)):\n",
    "    if (Ltest[i]>0.5):\n",
    "        ltest[i] = 1\n",
    "    else:\n",
    "        ltest[i]=0"
   ]
  },
  {
   "cell_type": "code",
   "execution_count": 35,
   "metadata": {},
   "outputs": [
    {
     "data": {
      "text/plain": [
       "0.7256637168141593"
      ]
     },
     "execution_count": 35,
     "metadata": {},
     "output_type": "execute_result"
    }
   ],
   "source": [
    "from sklearn.metrics import f1_score\n",
    "f1_score(ydata[length:].T,ltest.T)"
   ]
  },
  {
   "cell_type": "code",
   "execution_count": 36,
   "metadata": {},
   "outputs": [],
   "source": [
    "ltrain = np.zeros(len(Ltrain))\n",
    "for i in range(len(Ltrain)):\n",
    "    if (Ltrain[i]>0.5):\n",
    "        ltrain[i] = 1\n",
    "    else:\n",
    "        ltrain[i]=0"
   ]
  },
  {
   "cell_type": "code",
   "execution_count": 37,
   "metadata": {},
   "outputs": [
    {
     "data": {
      "text/plain": [
       "0.9854545454545456"
      ]
     },
     "execution_count": 37,
     "metadata": {},
     "output_type": "execute_result"
    }
   ],
   "source": [
    "from sklearn.metrics import f1_score\n",
    "f1_score(ydata[:length].T,ltrain.T)"
   ]
  },
  {
   "cell_type": "code",
   "execution_count": null,
   "metadata": {},
   "outputs": [],
   "source": []
  }
 ],
 "metadata": {
  "kernelspec": {
   "display_name": "Python 3",
   "language": "python",
   "name": "python3"
  },
  "language_info": {
   "codemirror_mode": {
    "name": "ipython",
    "version": 3
   },
   "file_extension": ".py",
   "mimetype": "text/x-python",
   "name": "python",
   "nbconvert_exporter": "python",
   "pygments_lexer": "ipython3",
   "version": "3.7.0"
  }
 },
 "nbformat": 4,
 "nbformat_minor": 2
}
